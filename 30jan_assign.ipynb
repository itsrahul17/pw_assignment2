{
 "cells": [
  {
   "cell_type": "code",
   "execution_count": 1,
   "id": "85f243fa-e3be-45ee-a49d-7ad1ff1bf27a",
   "metadata": {},
   "outputs": [
    {
     "name": "stdin",
     "output_type": "stream",
     "text": [
      "enter the marks   90\n"
     ]
    },
    {
     "name": "stdout",
     "output_type": "stream",
     "text": [
      "Grade - B\n"
     ]
    }
   ],
   "source": [
    "marks = int(input(\"enter the marks  \"))\n",
    "if marks > 90 :\n",
    "    print(\"Grade - A\")\n",
    "elif marks>80 and marks<=90 :\n",
    "    print(\"Grade - B\")\n",
    "elif marks>=60 and marks<=80 :\n",
    "    print(\"Grade - C\")\n",
    "else :\n",
    "    print(\"Grade - D\")"
   ]
  },
  {
   "cell_type": "code",
   "execution_count": 2,
   "id": "00296896-f02f-44e9-a15e-fb7820bf94b1",
   "metadata": {},
   "outputs": [
    {
     "name": "stdin",
     "output_type": "stream",
     "text": [
      "bike cost price is  700000\n"
     ]
    },
    {
     "name": "stdout",
     "output_type": "stream",
     "text": [
      "road tax to pe paid 15% of the cost_Price\n"
     ]
    }
   ],
   "source": [
    "cost_Price = int(input(\"bike cost price is \"))\n",
    "if cost_Price > 100000 :\n",
    "    print(\"road tax to pe paid 15% of the cost_Price\")\n",
    "elif cost_Price > 50000 and cost_Price <= 100000 :\n",
    "    print(\"road tax to be paid 10% of the cost_Price\")\n",
    "else :\n",
    "    print(\"road tax to be paid 5% of the cost_Price\")"
   ]
  },
  {
   "cell_type": "code",
   "execution_count": 3,
   "id": "9254b805-0dce-4d35-bec7-5f82c4cf90f1",
   "metadata": {},
   "outputs": [
    {
     "name": "stdin",
     "output_type": "stream",
     "text": [
      "user is from  Delhi\n"
     ]
    },
    {
     "name": "stdout",
     "output_type": "stream",
     "text": [
      "Red Fort is one of the monuments of this city.\n"
     ]
    }
   ],
   "source": [
    "city = input(\"user is from \")\n",
    "if city == \"Delhi\" :\n",
    "    print(\"Red Fort is one of the monuments of this city.\")\n",
    "elif city == \"Agra\" :\n",
    "    print(\"Taj Mahal is one of the monuments of this city.\")\n",
    "elif city == \"Jaipur\" :\n",
    "    print(\"Jal Mahal is one of the monuments of this city.\")"
   ]
  },
  {
   "cell_type": "code",
   "execution_count": 4,
   "id": "70b93b1f-e74c-4bb1-8693-9387053a328e",
   "metadata": {},
   "outputs": [
    {
     "name": "stdin",
     "output_type": "stream",
     "text": [
      "enter the number  90\n"
     ]
    },
    {
     "name": "stdout",
     "output_type": "stream",
     "text": [
      "3\n"
     ]
    }
   ],
   "source": [
    "count = 0\n",
    "num = int(input(\"enter the number \"))\n",
    "while num>=10 :\n",
    "    num = num/3\n",
    "    count += 1\n",
    "print(count)"
   ]
  },
  {
   "cell_type": "code",
   "execution_count": 5,
   "id": "90435fda-4517-4fcd-8be1-1258bc9487ee",
   "metadata": {},
   "outputs": [
    {
     "name": "stdout",
     "output_type": "stream",
     "text": [
      "1\n",
      "2\n",
      "3\n",
      "4\n",
      "5\n"
     ]
    }
   ],
   "source": [
    "'''Python while loop is used to run a block code until a certain condition is met.\n",
    "\n",
    "The syntax of while loop is:\n",
    "\n",
    "while condition:\n",
    "    # body of while loop\n",
    "Here,\n",
    "\n",
    "A while loop evaluates the condition\n",
    "If the condition evaluates to True, the code inside the while loop is executed.\n",
    "condition is evaluated again.\n",
    "This process continues until the condition is False.\n",
    "When condition evaluates to False, the loop stops.'''\n",
    "# example:-\n",
    "# program to display numbers from 1 to 5\n",
    "\n",
    "# initialize the variable\n",
    "i = 1\n",
    "n = 5\n",
    "\n",
    "# while loop from i = 1 to 5\n",
    "while i <= n:\n",
    "    print(i)\n",
    "    i = i + 1"
   ]
  },
  {
   "cell_type": "code",
   "execution_count": 11,
   "id": "f44a2e0e-aff6-4dd0-8ad7-792eb7e899c0",
   "metadata": {},
   "outputs": [
    {
     "name": "stdout",
     "output_type": "stream",
     "text": [
      "pattern 1\n",
      "* \n",
      "* * \n",
      "* * * \n",
      "pattern 2\n",
      "* * * \n",
      "* * \n",
      "* \n",
      "pattern 3\n",
      "* * * \n",
      "* * * \n",
      "* * * \n"
     ]
    }
   ],
   "source": [
    "# by using nested while loop here are three different pattern-\n",
    "print(\"pattern 1\")\n",
    "i = 1\n",
    "while i<= 3:\n",
    "    j = 1\n",
    "    pattern = \"\"\n",
    "    while j<=i:\n",
    "        pattern += \"* \" \n",
    "        j += 1\n",
    "    print(pattern)\n",
    "    i += 1\n",
    "print(\"pattern 2\")\n",
    "i = 3\n",
    "while i >= 1:\n",
    "    j = 1\n",
    "    pattern = \"\"\n",
    "    while j <= i:\n",
    "        pattern += \"* \"\n",
    "        j += 1\n",
    "    print(pattern)\n",
    "    i -= 1\n",
    "print(\"pattern 3\")\n",
    "i = 1\n",
    "while i <= 3:\n",
    "    j = 1\n",
    "    pattern = \"\"\n",
    "    while(j<=3):\n",
    "        pattern += \"* \"\n",
    "        j += 1\n",
    "    print(pattern)\n",
    "    i += 1\n",
    "    \n"
   ]
  },
  {
   "cell_type": "code",
   "execution_count": 12,
   "id": "90747c9f-5675-4261-907a-98b69d7399fd",
   "metadata": {},
   "outputs": [
    {
     "name": "stdout",
     "output_type": "stream",
     "text": [
      "10\n",
      "9\n",
      "8\n",
      "7\n",
      "6\n",
      "5\n",
      "4\n",
      "3\n",
      "2\n",
      "1\n"
     ]
    }
   ],
   "source": [
    "num = 10\n",
    "while num >= 1:\n",
    "    print(num)\n",
    "    num -= 1\n"
   ]
  },
  {
   "cell_type": "code",
   "execution_count": null,
   "id": "b26b080e-d4e4-4530-9514-db4f570d62b5",
   "metadata": {},
   "outputs": [],
   "source": []
  }
 ],
 "metadata": {
  "kernelspec": {
   "display_name": "Python 3 (ipykernel)",
   "language": "python",
   "name": "python3"
  },
  "language_info": {
   "codemirror_mode": {
    "name": "ipython",
    "version": 3
   },
   "file_extension": ".py",
   "mimetype": "text/x-python",
   "name": "python",
   "nbconvert_exporter": "python",
   "pygments_lexer": "ipython3",
   "version": "3.10.8"
  }
 },
 "nbformat": 4,
 "nbformat_minor": 5
}
